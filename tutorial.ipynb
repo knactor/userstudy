{
 "cells": [
  {
   "cell_type": "code",
   "execution_count": 46,
   "metadata": {},
   "outputs": [],
   "source": [
    "import grpc\n",
    "import demo_pb2\n",
    "import demo_pb2_grpc\n",
    "from concurrent import futures\n",
    "import subprocess\n",
    "import os"
   ]
  },
  {
   "cell_type": "code",
   "execution_count": 28,
   "metadata": {},
   "outputs": [],
   "source": [
    "import inspect, sys\n",
    "from IPython.core.magics.code import extract_symbols\n",
    "\n",
    "def new_getfile(object, _old_getfile=inspect.getfile):\n",
    "    if not inspect.isclass(object):\n",
    "        return _old_getfile(object)\n",
    "    \n",
    "    # Lookup by parent module (as in current inspect)\n",
    "    if hasattr(object, '__module__'):\n",
    "        object_ = sys.modules.get(object.__module__)\n",
    "        if hasattr(object_, '__file__'):\n",
    "            return object_.__file__\n",
    "    \n",
    "    # If parent module is __main__, lookup by methods (NEW)\n",
    "    for name, member in inspect.getmembers(object):\n",
    "        if inspect.isfunction(member) and object.__qualname__ + '.' + member.__name__ == member.__qualname__:\n",
    "            return inspect.getfile(member)\n",
    "    else:\n",
    "        raise TypeError('Source for {!r} not found'.format(object))\n",
    "inspect.getfile = new_getfile\n",
    "\n",
    "def stringify_class(obj):\n",
    "    cell_code = \"\".join(inspect.linecache.getlines(new_getfile(obj)))\n",
    "    class_code = extract_symbols(cell_code, obj.__name__)[0][0]\n",
    "    return class_code"
   ]
  },
  {
   "cell_type": "code",
   "execution_count": 58,
   "metadata": {},
   "outputs": [],
   "source": [
    "class CheckoutService(demo_pb2_grpc.CheckoutServiceServicer):\n",
    "    def PlaceOrder(self, request, context):\n",
    "        order_result = demo_pb2.OrderResult(\n",
    "            order_id='123',\n",
    "            status='success'\n",
    "        )\n",
    "        response = demo_pb2.PlaceOrderResponse(\n",
    "            order=order_result\n",
    "        )\n",
    "        return response\n",
    "\n",
    "class ShippingService(demo_pb2_grpc.ShippingServiceServicer):\n",
    "    def GetQuote(self, request, context):\n",
    "        ...\n",
    "    \n",
    "    def ShipOrder(self, request, context):\n",
    "        ...\n",
    "\n",
    "class PaymentService(demo_pb2_grpc.PaymentServiceServicer):\n",
    "    def Charge(self, request, context):\n",
    "        ..."
   ]
  },
  {
   "cell_type": "code",
   "execution_count": 61,
   "metadata": {},
   "outputs": [],
   "source": [
    "# TODO: random port numbers > 50000\n",
    "def generate_grpc_server(server_obj):\n",
    "    return f\"\"\"\n",
    "import sys\n",
    "\n",
    "import grpc\n",
    "import demo_pb2\n",
    "import demo_pb2_grpc\n",
    "from concurrent import futures\n",
    "\n",
    "# define the gRPC service class\n",
    "{stringify_class(server_obj)}\n",
    "class ServerControlService(demo_pb2_grpc.ServerControlService):\n",
    "    def TerminateServer(self, request, context):\n",
    "        if request.action == 'terminate':\n",
    "            print(\"terminating server\")\n",
    "            server.stop(0)\n",
    "        return demo_pb2.Empty()\n",
    "\n",
    "# create a gRPC server and add the service to it\n",
    "server = grpc.server(futures.ThreadPoolExecutor(max_workers=10))\n",
    "demo_pb2_grpc.add_{server_obj.__name__}Servicer_to_server({server_obj.__name__}(), server)\n",
    "demo_pb2_grpc.add_ServerControlServiceServicer_to_server(ServerControlService(), server)\n",
    "server.add_insecure_port('[::]:50051')\n",
    "\n",
    "# start the server\n",
    "server.start()\n",
    "print('Server started on port 50051')\n",
    "\n",
    "# wait for the server to finish\n",
    "server.wait_for_termination()\n",
    "\"\"\""
   ]
  },
  {
   "cell_type": "code",
   "execution_count": 59,
   "metadata": {},
   "outputs": [],
   "source": [
    "def test_grpc():\n",
    "    server_processes = []\n",
    "    filenames = []\n",
    "    for obj in [CheckoutService, ShippingService, PaymentService]:\n",
    "        filename = f\"{obj.__name__}.py\"\n",
    "        filenames.append(filename)\n",
    "        with open(filename, 'w') as f:\n",
    "            f.write(generate_grpc_server(obj))\n",
    "\n",
    "        process = subprocess.Popen([\"python\", filename], stdout=subprocess.PIPE, stderr= subprocess.PIPE)\n",
    "        server_processes.append(process)\n",
    "        # stdout, stderr = process.communicate()\n",
    "\n",
    "    # TODO: generate \n",
    "    stub_process = subprocess.Popen([\"python\", \"grpc_client.py\"], stdout=subprocess.PIPE, stderr= subprocess.PIPE)\n",
    "    # stdout, stderr = stub_process.communicate()\n",
    "    # TODO: testing logic\n",
    "    \n",
    "    for process in server_processes:\n",
    "        stdout, stderr = process.communicate()\n",
    "        print(stdout, stderr)\n",
    "        \n",
    "    for obj in [CheckoutService, ShippingService, PaymentService]:\n",
    "        name = obj.__name__\n",
    "        os.remove(f\"{name}.py\")"
   ]
  },
  {
   "cell_type": "code",
   "execution_count": 50,
   "metadata": {},
   "outputs": [
    {
     "name": "stdout",
     "output_type": "stream",
     "text": [
      "b'Server started on port 50051\\nterminating server\\n'\n",
      "b''\n"
     ]
    }
   ],
   "source": [
    "with open('payment_service.py', 'w') as f:\n",
    "    f.write(checkout_service_code)\n",
    "\n",
    "payment_process = subprocess.Popen([\"python\", \"payment_service.py\"], stdout=subprocess.PIPE, stderr= subprocess.PIPE)\n",
    "subprocess.Popen([\"python\", \"grpc_client.py\"], stdout=subprocess.PIPE, stderr= subprocess.PIPE)\n",
    "stdout, stderr = checkout_process.communicate()\n",
    "print(stdout)\n",
    "print(stderr)\n",
    "os.remove('payment_service.py')"
   ]
  },
  {
   "cell_type": "code",
   "execution_count": 62,
   "metadata": {},
   "outputs": [
    {
     "name": "stdout",
     "output_type": "stream",
     "text": [
      "b'Server started on port 50051\\nterminating server\\n' b''\n"
     ]
    },
    {
     "ename": "KeyboardInterrupt",
     "evalue": "",
     "output_type": "error",
     "traceback": [
      "\u001b[0;31m---------------------------------------------------------------------------\u001b[0m",
      "\u001b[0;31mKeyboardInterrupt\u001b[0m                         Traceback (most recent call last)",
      "Cell \u001b[0;32mIn[62], line 1\u001b[0m\n\u001b[0;32m----> 1\u001b[0m \u001b[43mtest_grpc\u001b[49m\u001b[43m(\u001b[49m\u001b[43m)\u001b[49m\n",
      "Cell \u001b[0;32mIn[59], line 19\u001b[0m, in \u001b[0;36mtest_grpc\u001b[0;34m()\u001b[0m\n\u001b[1;32m     15\u001b[0m \u001b[38;5;66;03m# stdout, stderr = stub_process.communicate()\u001b[39;00m\n\u001b[1;32m     16\u001b[0m \u001b[38;5;66;03m# TODO: testing logic\u001b[39;00m\n\u001b[1;32m     18\u001b[0m \u001b[38;5;28;01mfor\u001b[39;00m process \u001b[38;5;129;01min\u001b[39;00m server_processes:\n\u001b[0;32m---> 19\u001b[0m     stdout, stderr \u001b[38;5;241m=\u001b[39m \u001b[43mprocess\u001b[49m\u001b[38;5;241;43m.\u001b[39;49m\u001b[43mcommunicate\u001b[49m\u001b[43m(\u001b[49m\u001b[43m)\u001b[49m\n\u001b[1;32m     20\u001b[0m     \u001b[38;5;28mprint\u001b[39m(stdout, stderr)\n\u001b[1;32m     22\u001b[0m \u001b[38;5;28;01mfor\u001b[39;00m obj \u001b[38;5;129;01min\u001b[39;00m [CheckoutService, ShippingService, PaymentService]:\n",
      "File \u001b[0;32m~/.pyenv/versions/3.11.1/lib/python3.11/subprocess.py:1207\u001b[0m, in \u001b[0;36mPopen.communicate\u001b[0;34m(self, input, timeout)\u001b[0m\n\u001b[1;32m   1204\u001b[0m     endtime \u001b[38;5;241m=\u001b[39m \u001b[38;5;28;01mNone\u001b[39;00m\n\u001b[1;32m   1206\u001b[0m \u001b[38;5;28;01mtry\u001b[39;00m:\n\u001b[0;32m-> 1207\u001b[0m     stdout, stderr \u001b[38;5;241m=\u001b[39m \u001b[38;5;28;43mself\u001b[39;49m\u001b[38;5;241;43m.\u001b[39;49m\u001b[43m_communicate\u001b[49m\u001b[43m(\u001b[49m\u001b[38;5;28;43minput\u001b[39;49m\u001b[43m,\u001b[49m\u001b[43m \u001b[49m\u001b[43mendtime\u001b[49m\u001b[43m,\u001b[49m\u001b[43m \u001b[49m\u001b[43mtimeout\u001b[49m\u001b[43m)\u001b[49m\n\u001b[1;32m   1208\u001b[0m \u001b[38;5;28;01mexcept\u001b[39;00m \u001b[38;5;167;01mKeyboardInterrupt\u001b[39;00m:\n\u001b[1;32m   1209\u001b[0m     \u001b[38;5;66;03m# https://bugs.python.org/issue25942\u001b[39;00m\n\u001b[1;32m   1210\u001b[0m     \u001b[38;5;66;03m# See the detailed comment in .wait().\u001b[39;00m\n\u001b[1;32m   1211\u001b[0m     \u001b[38;5;28;01mif\u001b[39;00m timeout \u001b[38;5;129;01mis\u001b[39;00m \u001b[38;5;129;01mnot\u001b[39;00m \u001b[38;5;28;01mNone\u001b[39;00m:\n",
      "File \u001b[0;32m~/.pyenv/versions/3.11.1/lib/python3.11/subprocess.py:2059\u001b[0m, in \u001b[0;36mPopen._communicate\u001b[0;34m(self, input, endtime, orig_timeout)\u001b[0m\n\u001b[1;32m   2052\u001b[0m     \u001b[38;5;28mself\u001b[39m\u001b[38;5;241m.\u001b[39m_check_timeout(endtime, orig_timeout,\n\u001b[1;32m   2053\u001b[0m                         stdout, stderr,\n\u001b[1;32m   2054\u001b[0m                         skip_check_and_raise\u001b[38;5;241m=\u001b[39m\u001b[38;5;28;01mTrue\u001b[39;00m)\n\u001b[1;32m   2055\u001b[0m     \u001b[38;5;28;01mraise\u001b[39;00m \u001b[38;5;167;01mRuntimeError\u001b[39;00m(  \u001b[38;5;66;03m# Impossible :)\u001b[39;00m\n\u001b[1;32m   2056\u001b[0m         \u001b[38;5;124m'\u001b[39m\u001b[38;5;124m_check_timeout(..., skip_check_and_raise=True) \u001b[39m\u001b[38;5;124m'\u001b[39m\n\u001b[1;32m   2057\u001b[0m         \u001b[38;5;124m'\u001b[39m\u001b[38;5;124mfailed to raise TimeoutExpired.\u001b[39m\u001b[38;5;124m'\u001b[39m)\n\u001b[0;32m-> 2059\u001b[0m ready \u001b[38;5;241m=\u001b[39m \u001b[43mselector\u001b[49m\u001b[38;5;241;43m.\u001b[39;49m\u001b[43mselect\u001b[49m\u001b[43m(\u001b[49m\u001b[43mtimeout\u001b[49m\u001b[43m)\u001b[49m\n\u001b[1;32m   2060\u001b[0m \u001b[38;5;28mself\u001b[39m\u001b[38;5;241m.\u001b[39m_check_timeout(endtime, orig_timeout, stdout, stderr)\n\u001b[1;32m   2062\u001b[0m \u001b[38;5;66;03m# XXX Rewrite these to use non-blocking I/O on the file\u001b[39;00m\n\u001b[1;32m   2063\u001b[0m \u001b[38;5;66;03m# objects; they are no longer using C stdio!\u001b[39;00m\n",
      "File \u001b[0;32m~/.pyenv/versions/3.11.1/lib/python3.11/selectors.py:415\u001b[0m, in \u001b[0;36m_PollLikeSelector.select\u001b[0;34m(self, timeout)\u001b[0m\n\u001b[1;32m    413\u001b[0m ready \u001b[38;5;241m=\u001b[39m []\n\u001b[1;32m    414\u001b[0m \u001b[38;5;28;01mtry\u001b[39;00m:\n\u001b[0;32m--> 415\u001b[0m     fd_event_list \u001b[38;5;241m=\u001b[39m \u001b[38;5;28mself\u001b[39m\u001b[38;5;241m.\u001b[39m_selector\u001b[38;5;241m.\u001b[39mpoll(timeout)\n\u001b[1;32m    416\u001b[0m \u001b[38;5;28;01mexcept\u001b[39;00m \u001b[38;5;167;01mInterruptedError\u001b[39;00m:\n\u001b[1;32m    417\u001b[0m     \u001b[38;5;28;01mreturn\u001b[39;00m ready\n",
      "\u001b[0;31mKeyboardInterrupt\u001b[0m: "
     ]
    }
   ],
   "source": [
    "test_grpc()"
   ]
  },
  {
   "cell_type": "code",
   "execution_count": null,
   "metadata": {},
   "outputs": [],
   "source": []
  }
 ],
 "metadata": {
  "kernelspec": {
   "display_name": "Python 3 (ipykernel)",
   "language": "python",
   "name": "python3"
  },
  "language_info": {
   "codemirror_mode": {
    "name": "ipython",
    "version": 3
   },
   "file_extension": ".py",
   "mimetype": "text/x-python",
   "name": "python",
   "nbconvert_exporter": "python",
   "pygments_lexer": "ipython3",
   "version": "3.11.1"
  }
 },
 "nbformat": 4,
 "nbformat_minor": 4
}
