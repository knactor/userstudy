{
 "cells": [
  {
   "cell_type": "code",
   "execution_count": 102,
   "metadata": {},
   "outputs": [],
   "source": [
    "from util import test_grpc"
   ]
  },
  {
   "cell_type": "markdown",
   "metadata": {},
   "source": [
    "#Here are the schemas for rpc methods / messages\n",
    "```\n",
    "// -------------Checkout service-----------------\n",
    "\n",
    "service CheckoutService {\n",
    "    rpc PlaceOrder(PlaceOrderRequest) returns (PlaceOrderResponse) {}\n",
    "}\n",
    "\n",
    "message PlaceOrderRequest {\n",
    "    string user_id = 1;\n",
    "    string user_currency = 2;\n",
    "\n",
    "    Address address = 3;\n",
    "    string email = 5;\n",
    "    CreditCardInfo credit_card = 6;\n",
    "}\n",
    "\n",
    "message PlaceOrderResponse {\n",
    "    OrderResult order = 1;\n",
    "}\n",
    "\n",
    "// ---------------Shipping Service----------\n",
    "\n",
    "service ShippingService {\n",
    "    rpc GetQuote(GetQuoteRequest) returns (GetQuoteResponse) {}\n",
    "    rpc ShipOrder(ShipOrderRequest) returns (ShipOrderResponse) {}\n",
    "}\n",
    "\n",
    "message GetQuoteRequest {\n",
    "    Address address = 1;\n",
    "    repeated CartItem items = 2;\n",
    "}\n",
    "\n",
    "message GetQuoteResponse {\n",
    "    Money cost_usd = 1;\n",
    "}\n",
    "\n",
    "message ShipOrderRequest {\n",
    "    Address address = 1;\n",
    "    repeated CartItem items = 2;\n",
    "}\n",
    "\n",
    "message ShipOrderResponse {\n",
    "    string tracking_id = 1;\n",
    "}\n",
    "\n",
    "message Address {\n",
    "    string street_address = 1;\n",
    "    string city = 2;\n",
    "    string state = 3;\n",
    "    string country = 4;\n",
    "    int32 zip_code = 5;\n",
    "}\n",
    "\n",
    "// -------------Payment service-----------------\n",
    "\n",
    "service PaymentService {\n",
    "    rpc Charge(ChargeRequest) returns (ChargeResponse) {}\n",
    "}\n",
    "\n",
    "message CreditCardInfo {\n",
    "    string credit_card_number = 1;\n",
    "    int32 credit_card_cvv = 2;\n",
    "    int32 credit_card_expiration_year = 3;\n",
    "    int32 credit_card_expiration_month = 4;\n",
    "}\n",
    "\n",
    "message ChargeRequest {\n",
    "    Money amount = 1;\n",
    "    CreditCardInfo credit_card = 2;\n",
    "}\n",
    "\n",
    "message ChargeResponse {\n",
    "    string transaction_id = 1;\n",
    "}\n",
    "```"
   ]
  },
  {
   "cell_type": "code",
   "execution_count": 107,
   "metadata": {},
   "outputs": [],
   "source": [
    "class CheckoutService(demo_pb2_grpc.CheckoutServiceServicer):\n",
    "    def PlaceOrder(self, request, context):\n",
    "        order_result = demo_pb2.OrderResult(\n",
    "            order_id='123',\n",
    "            status='success'\n",
    "        )\n",
    "        response = demo_pb2.PlaceOrderResponse(\n",
    "            order=order_result\n",
    "        )\n",
    "        return response\n",
    "\n",
    "class ShippingService(demo_pb2_grpc.ShippingServiceServicer):\n",
    "    def GetQuote(self, request, context):\n",
    "        ...\n",
    "    \n",
    "    def ShipOrder(self, request, context):\n",
    "        ...\n",
    "\n",
    "class PaymentService(demo_pb2_grpc.PaymentServiceServicer):\n",
    "    def Charge(self, request, context):\n",
    "        ..."
   ]
  },
  {
   "cell_type": "code",
   "execution_count": 108,
   "metadata": {},
   "outputs": [
    {
     "name": "stdout",
     "output_type": "stream",
     "text": [
      "b'Server started on port 52102\\nterminating server\\n' b''\n",
      "b'Server started on port 53291\\nterminating server\\n' b''\n",
      "b'Server started on port 55207\\nterminating server\\n' b''\n"
     ]
    }
   ],
   "source": [
    "test_grpc([CheckoutService, PaymentService, ShippingService])"
   ]
  },
  {
   "cell_type": "code",
   "execution_count": null,
   "metadata": {},
   "outputs": [],
   "source": []
  }
 ],
 "metadata": {
  "kernelspec": {
   "display_name": "Python 3 (ipykernel)",
   "language": "python",
   "name": "python3"
  },
  "language_info": {
   "codemirror_mode": {
    "name": "ipython",
    "version": 3
   },
   "file_extension": ".py",
   "mimetype": "text/x-python",
   "name": "python",
   "nbconvert_exporter": "python",
   "pygments_lexer": "ipython3",
   "version": "3.11.1"
  }
 },
 "nbformat": 4,
 "nbformat_minor": 4
}
